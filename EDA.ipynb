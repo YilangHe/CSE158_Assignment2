{
 "cells": [
  {
   "cell_type": "code",
   "execution_count": 1,
   "id": "defcefbe",
   "metadata": {},
   "outputs": [],
   "source": [
    "import gzip\n",
    "import json\n",
    "import numpy as np\n",
    "import matplotlib.pyplot as plt\n",
    "import seaborn as sns\n",
    "sns.set()\n",
    "sns.set_context('talk')"
   ]
  },
  {
   "cell_type": "code",
   "execution_count": 2,
   "id": "246fc4bb",
   "metadata": {},
   "outputs": [],
   "source": [
    "def parse(path):\n",
    "    g = gzip.open(path, 'r')\n",
    "    for l in g:\n",
    "        l = str(json.loads(l))\n",
    "        yield eval(l)"
   ]
  },
  {
   "cell_type": "code",
   "execution_count": 3,
   "id": "0c95cf81",
   "metadata": {},
   "outputs": [],
   "source": [
    "data_modcloth = []\n",
    "for l in parse(\"modcloth_final_data.json.gz\"):\n",
    "    \n",
    "    data_modcloth.append(l)"
   ]
  },
  {
   "cell_type": "code",
   "execution_count": null,
   "id": "8625e0e4",
   "metadata": {},
   "outputs": [],
   "source": []
  },
  {
   "cell_type": "code",
   "execution_count": 190,
   "id": "5f5dd566",
   "metadata": {},
   "outputs": [],
   "source": [
    "data_renttherunway = []\n",
    "for l in parse(\"renttherunway_final_data.json.gz\"):\n",
    "    \n",
    "    data_renttherunway.append(l)"
   ]
  },
  {
   "cell_type": "code",
   "execution_count": 191,
   "id": "b8cc3922",
   "metadata": {
    "scrolled": false
   },
   "outputs": [
    {
     "data": {
      "text/plain": [
       "{'fit': 'fit',\n",
       " 'user_id': '420272',\n",
       " 'bust size': '34d',\n",
       " 'item_id': '2260466',\n",
       " 'weight': '137lbs',\n",
       " 'rating': '10',\n",
       " 'rented for': 'vacation',\n",
       " 'review_text': \"An adorable romper! Belt and zipper were a little hard to navigate in a full day of wear/bathroom use, but that's to be expected. Wish it had pockets, but other than that-- absolutely perfect! I got a million compliments.\",\n",
       " 'body type': 'hourglass',\n",
       " 'review_summary': 'So many compliments!',\n",
       " 'category': 'romper',\n",
       " 'height': '5\\' 8\"',\n",
       " 'size': 14,\n",
       " 'age': '28',\n",
       " 'review_date': 'April 20, 2016'}"
      ]
     },
     "execution_count": 191,
     "metadata": {},
     "output_type": "execute_result"
    }
   ],
   "source": [
    "data_renttherunway[0]"
   ]
  },
  {
   "cell_type": "code",
   "execution_count": 192,
   "id": "e0e3122a",
   "metadata": {},
   "outputs": [
    {
     "data": {
      "text/plain": [
       "192544"
      ]
     },
     "execution_count": 192,
     "metadata": {},
     "output_type": "execute_result"
    }
   ],
   "source": [
    "len(data_renttherunway)"
   ]
  },
  {
   "cell_type": "markdown",
   "id": "364d54e8",
   "metadata": {},
   "source": [
    "Clean/EDA Heights"
   ]
  },
  {
   "cell_type": "code",
   "execution_count": 127,
   "id": "cf782304",
   "metadata": {},
   "outputs": [],
   "source": [
    "def standardize_height(str_in):\n",
    "\n",
    "    str_in = str_in.strip()\n",
    "    if '\\'' in str_in:\n",
    "        str_in = str_in.replace('\\'', '')\n",
    "    if '\"' in str_in:\n",
    "        str_in = str_in.replace('\"', '')\n",
    "\n",
    "    foot,inch = str_in.strip().split(' ')\n",
    "    output = int(foot) * 12 + int(inch)\n",
    "\n",
    "    return output"
   ]
  },
  {
   "cell_type": "code",
   "execution_count": 206,
   "id": "64cbac77",
   "metadata": {},
   "outputs": [],
   "source": [
    "original_heights = [d['height'] for d in data_renttherunway if d.get('height') != None]\n",
    "heights = [standardize_height(h) for h in original_heights]"
   ]
  },
  {
   "cell_type": "code",
   "execution_count": 207,
   "id": "8bd36e5f",
   "metadata": {},
   "outputs": [
    {
     "data": {
      "text/plain": [
       "(191867, 65.31062142004617, 65.0)"
      ]
     },
     "execution_count": 207,
     "metadata": {},
     "output_type": "execute_result"
    }
   ],
   "source": [
    "len(heights), np.mean(heights), np.median(heights)"
   ]
  },
  {
   "cell_type": "code",
   "execution_count": 208,
   "id": "1be6d25c",
   "metadata": {
    "scrolled": true
   },
   "outputs": [
    {
     "data": {
      "text/plain": [
       "array([54, 55, 56, 57, 58, 59, 60, 61, 62, 63, 64, 65, 66, 67, 68, 69, 70,\n",
       "       71, 72, 73, 74, 75, 76, 78])"
      ]
     },
     "execution_count": 208,
     "metadata": {},
     "output_type": "execute_result"
    }
   ],
   "source": [
    "np.unique(heights)"
   ]
  },
  {
   "cell_type": "code",
   "execution_count": 205,
   "id": "1801253e",
   "metadata": {
    "scrolled": true
   },
   "outputs": [
    {
     "data": {
      "text/plain": [
       "Text(0.5, 0, 'height (inch)')"
      ]
     },
     "execution_count": 205,
     "metadata": {},
     "output_type": "execute_result"
    },
    {
     "data": {
      "image/png": "[encoded data removed]",
      "text/plain": [
       "<Figure size 432x288 with 1 Axes>"
      ]
     },
     "metadata": {},
     "output_type": "display_data"
    }
   ],
   "source": [
    "sns.histplot(data=heights, bins=20)\n",
    "plt.xlabel('height (inch)')"
   ]
  },
  {
   "cell_type": "code",
   "execution_count": 179,
   "id": "a89899ca",
   "metadata": {},
   "outputs": [],
   "source": [
    "heights = []\n",
    "for d in data_renttherunway:\n",
    "\n",
    "    if d.get('height') != None:\n",
    "        d['height'] = standardize_height(d['height'])\n",
    "        heights.append(d['height'])\n",
    "    else:\n",
    "        data_renttherunway.remove(d)\n"
   ]
  },
  {
   "cell_type": "code",
   "execution_count": 180,
   "id": "9d98af57",
   "metadata": {
    "scrolled": true
   },
   "outputs": [
    {
     "data": {
      "text/plain": [
       "191869"
      ]
     },
     "execution_count": 180,
     "metadata": {},
     "output_type": "execute_result"
    }
   ],
   "source": [
    "len(data_renttherunway)"
   ]
  },
  {
   "cell_type": "code",
   "execution_count": 181,
   "id": "8911a6d5",
   "metadata": {},
   "outputs": [
    {
     "data": {
      "text/plain": [
       "'5\\' 2\"'"
      ]
     },
     "execution_count": 181,
     "metadata": {},
     "output_type": "execute_result"
    }
   ],
   "source": [
    "[d.get('height') for d in data_renttherunway][-90]"
   ]
  },
  {
   "cell_type": "code",
   "execution_count": 132,
   "id": "4a5daa0b",
   "metadata": {},
   "outputs": [
    {
     "data": {
      "text/plain": [
       "{'fit': 'fit',\n",
       " 'user_id': '579302',\n",
       " 'bust size': '34c',\n",
       " 'item_id': '131533',\n",
       " 'weight': '121lbs',\n",
       " 'rating': '10',\n",
       " 'rented for': 'wedding',\n",
       " 'review_text': 'I got a lot of compliments for this dress at the wedding and also on social media. I really felt elegant and pretty. I wore it to a fall wedding.',\n",
       " 'body type': 'petite',\n",
       " 'review_summary': 'It was a little long, but with tall shoes it worked. ',\n",
       " 'category': 'gown',\n",
       " 'height': '5\\' 2\"',\n",
       " 'size': 8,\n",
       " 'age': '36',\n",
       " 'review_date': 'December 2, 2014'}"
      ]
     },
     "execution_count": 132,
     "metadata": {},
     "output_type": "execute_result"
    }
   ],
   "source": [
    "data_renttherunway[-90]"
   ]
  },
  {
   "cell_type": "code",
   "execution_count": 187,
   "id": "39a1ceed",
   "metadata": {},
   "outputs": [
    {
     "data": {
      "text/plain": [
       "673"
      ]
     },
     "execution_count": 187,
     "metadata": {},
     "output_type": "execute_result"
    }
   ],
   "source": [
    "c=0\n",
    "for d in data_renttherunway:\n",
    "    a = d.get('height')\n",
    "#     if a == None:\n",
    "    if type(a) == str:\n",
    "#         print(d)\n",
    "        c+=1\n",
    "    \n",
    "c"
   ]
  },
  {
   "cell_type": "code",
   "execution_count": 227,
   "id": "d43a792b",
   "metadata": {},
   "outputs": [],
   "source": [
    "# [d.get('height') for d in data_renttherunway]"
   ]
  },
  {
   "cell_type": "markdown",
   "id": "60f53312",
   "metadata": {},
   "source": [
    "Clean/EDA Weights"
   ]
  },
  {
   "cell_type": "code",
   "execution_count": 210,
   "id": "4e63759e",
   "metadata": {
    "scrolled": true
   },
   "outputs": [
    {
     "data": {
      "text/plain": [
       "192544"
      ]
     },
     "execution_count": 210,
     "metadata": {},
     "output_type": "execute_result"
    }
   ],
   "source": [
    "len([d.get('weight') for d in data_renttherunway])"
   ]
  },
  {
   "cell_type": "code",
   "execution_count": 141,
   "id": "d2c69584",
   "metadata": {},
   "outputs": [],
   "source": [
    "def standardize_weight(str_in):\n",
    "\n",
    "    if 'lbs' in str_in:\n",
    "        str_in = str_in.replace('lbs', '')\n",
    "    if(str_in.isnumeric()):\n",
    "        return int(str_in)\n",
    "\n",
    "    return str_in"
   ]
  },
  {
   "cell_type": "code",
   "execution_count": 216,
   "id": "137299d1",
   "metadata": {
    "scrolled": true
   },
   "outputs": [],
   "source": [
    "original_weights = [d['weight'] for d in data_renttherunway if d.get('weight') != None]\n",
    "weights = [standardize_weight(h) for h in original_weights]"
   ]
  },
  {
   "cell_type": "code",
   "execution_count": 217,
   "id": "131a0416",
   "metadata": {},
   "outputs": [
    {
     "data": {
      "text/plain": [
       "(162562, 137.39170900948562, 135.0)"
      ]
     },
     "execution_count": 217,
     "metadata": {},
     "output_type": "execute_result"
    }
   ],
   "source": [
    "len(weights), np.mean(weights), np.median(weights)"
   ]
  },
  {
   "cell_type": "code",
   "execution_count": 220,
   "id": "0adc01cf",
   "metadata": {},
   "outputs": [
    {
     "data": {
      "text/plain": [
       "190"
      ]
     },
     "execution_count": 220,
     "metadata": {},
     "output_type": "execute_result"
    }
   ],
   "source": [
    "len(np.unique(weights))"
   ]
  },
  {
   "cell_type": "code",
   "execution_count": 221,
   "id": "9354f1a2",
   "metadata": {
    "scrolled": true
   },
   "outputs": [
    {
     "data": {
      "text/plain": [
       "Text(0.5, 0, 'weight (lbs)')"
      ]
     },
     "execution_count": 221,
     "metadata": {},
     "output_type": "execute_result"
    },
    {
     "data": {
      "image/png": "[encoded data removed]",
      "text/plain": [
       "<Figure size 432x288 with 1 Axes>"
      ]
     },
     "metadata": {},
     "output_type": "display_data"
    }
   ],
   "source": [
    "sns.histplot(data=weights, bins=30)\n",
    "plt.xlabel('weight (lbs)')"
   ]
  },
  {
   "cell_type": "code",
   "execution_count": 222,
   "id": "3b85cf9b",
   "metadata": {},
   "outputs": [],
   "source": [
    "weights = []\n",
    "for d in data_renttherunway:\n",
    "\n",
    "    if d.get('weight') != None:\n",
    "        d['weight'] = standardize_weight(d['weight'])\n",
    "        weights.append(d['weight'])\n",
    "    else:\n",
    "        data_renttherunway.remove(d)"
   ]
  },
  {
   "cell_type": "code",
   "execution_count": 223,
   "id": "e2008d4e",
   "metadata": {
    "scrolled": true
   },
   "outputs": [
    {
     "data": {
      "text/plain": [
       "166591"
      ]
     },
     "execution_count": 223,
     "metadata": {},
     "output_type": "execute_result"
    }
   ],
   "source": [
    "len(data_renttherunway)"
   ]
  },
  {
   "cell_type": "code",
   "execution_count": 225,
   "id": "b1495411",
   "metadata": {},
   "outputs": [],
   "source": [
    "# [d.get('weight') for d in data_renttherunway]"
   ]
  },
  {
   "cell_type": "code",
   "execution_count": null,
   "id": "1e2cc1fc",
   "metadata": {},
   "outputs": [],
   "source": []
  }
 ],
 "metadata": {
  "kernelspec": {
   "display_name": "Python 3 (ipykernel)",
   "language": "python",
   "name": "python3"
  },
  "language_info": {
   "codemirror_mode": {
    "name": "ipython",
    "version": 3
   },
   "file_extension": ".py",
   "mimetype": "text/x-python",
   "name": "python",
   "nbconvert_exporter": "python",
   "pygments_lexer": "ipython3",
   "version": "3.9.7"
  }
 },
 "nbformat": 4,
 "nbformat_minor": 5
}
