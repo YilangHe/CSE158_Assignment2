{
 "cells": [
  {
   "cell_type": "markdown",
   "id": "5578bd05",
   "metadata": {},
   "source": [
    "## Import packages"
   ]
  },
  {
   "cell_type": "code",
   "execution_count": 82,
   "id": "4acea91e",
   "metadata": {},
   "outputs": [],
   "source": [
    "import gzip\n",
    "import json\n",
    "import numpy as np\n",
    "import matplotlib.pyplot as plt\n",
    "import seaborn as sns\n",
    "import pandas as pd\n",
    "from datetime import datetime\n",
    "sns.set()\n",
    "sns.set_context('talk')"
   ]
  },
  {
   "cell_type": "code",
   "execution_count": 83,
   "id": "246fc4bb",
   "metadata": {},
   "outputs": [],
   "source": [
    "def parse(path):\n",
    "    g = gzip.open(path, 'r')\n",
    "    for l in g:\n",
    "        l = str(json.loads(l))\n",
    "        yield eval(l)"
   ]
  },
  {
   "cell_type": "markdown",
   "id": "a6597ffe",
   "metadata": {},
   "source": [
    "## Import dataset"
   ]
  },
  {
   "cell_type": "code",
   "execution_count": 84,
   "id": "0c95cf81",
   "metadata": {},
   "outputs": [],
   "source": [
    "data_modcloth = []\n",
    "for l in parse(\"modcloth_final_data.json.gz\"):\n",
    "    data_modcloth.append(l)"
   ]
  },
  {
   "cell_type": "code",
   "execution_count": 85,
   "id": "8625e0e4",
   "metadata": {},
   "outputs": [
    {
     "data": {
      "text/plain": [
       "{'item_id': '123373',\n",
       " 'waist': '29',\n",
       " 'size': 7,\n",
       " 'quality': 5,\n",
       " 'cup size': 'd',\n",
       " 'hips': '38',\n",
       " 'bra size': '34',\n",
       " 'category': 'new',\n",
       " 'bust': '36',\n",
       " 'height': '5ft 6in',\n",
       " 'user_name': 'Emily',\n",
       " 'length': 'just right',\n",
       " 'fit': 'small',\n",
       " 'user_id': '991571'}"
      ]
     },
     "execution_count": 85,
     "metadata": {},
     "output_type": "execute_result"
    }
   ],
   "source": [
    "data_modcloth[0]"
   ]
  },
  {
   "cell_type": "code",
   "execution_count": 86,
   "id": "5f5dd566",
   "metadata": {},
   "outputs": [],
   "source": [
    "data_renttherunway = []\n",
    "for l in parse(\"renttherunway_final_data.json.gz\"):\n",
    "    data_renttherunway.append(l)"
   ]
  },
  {
   "cell_type": "code",
   "execution_count": 87,
   "id": "b8cc3922",
   "metadata": {
    "scrolled": false
   },
   "outputs": [
    {
     "data": {
      "text/plain": [
       "{'fit': 'fit',\n",
       " 'user_id': '420272',\n",
       " 'bust size': '34d',\n",
       " 'item_id': '2260466',\n",
       " 'weight': '137lbs',\n",
       " 'rating': '10',\n",
       " 'rented for': 'vacation',\n",
       " 'review_text': \"An adorable romper! Belt and zipper were a little hard to navigate in a full day of wear/bathroom use, but that's to be expected. Wish it had pockets, but other than that-- absolutely perfect! I got a million compliments.\",\n",
       " 'body type': 'hourglass',\n",
       " 'review_summary': 'So many compliments!',\n",
       " 'category': 'romper',\n",
       " 'height': '5\\' 8\"',\n",
       " 'size': 14,\n",
       " 'age': '28',\n",
       " 'review_date': 'April 20, 2016'}"
      ]
     },
     "execution_count": 87,
     "metadata": {},
     "output_type": "execute_result"
    }
   ],
   "source": [
    "data_renttherunway[0]"
   ]
  },
  {
   "cell_type": "code",
   "execution_count": 88,
   "id": "e0e3122a",
   "metadata": {},
   "outputs": [
    {
     "data": {
      "text/plain": [
       "192544"
      ]
     },
     "execution_count": 88,
     "metadata": {},
     "output_type": "execute_result"
    }
   ],
   "source": [
    "len(data_renttherunway)"
   ]
  },
  {
   "cell_type": "markdown",
   "id": "1928280c",
   "metadata": {},
   "source": [
    "## Data Clean"
   ]
  },
  {
   "cell_type": "code",
   "execution_count": 89,
   "id": "167c0f23",
   "metadata": {},
   "outputs": [],
   "source": [
    "df = pd.DataFrame(data_renttherunway)"
   ]
  },
  {
   "cell_type": "code",
   "execution_count": 90,
   "id": "eed7081a",
   "metadata": {},
   "outputs": [],
   "source": [
    "def standardize_height(str_in):\n",
    "    if type(str_in) == float:\n",
    "        return str_in\n",
    "    str_in = str_in.strip()\n",
    "    if '\\'' in str_in:\n",
    "        str_in = str_in.replace('\\'', '')\n",
    "    if '\"' in str_in:\n",
    "        str_in = str_in.replace('\"', '')\n",
    "\n",
    "    foot,inch = str_in.strip().split(' ')\n",
    "    output = int(foot) * 12 + int(inch)\n",
    "\n",
    "    return output"
   ]
  },
  {
   "cell_type": "code",
   "execution_count": 91,
   "id": "e6bef124",
   "metadata": {},
   "outputs": [],
   "source": [
    "def standardize_weight(str_in):\n",
    "    if type(str_in) == float:\n",
    "        return str_in\n",
    "    if 'lbs' in str_in:\n",
    "        str_in = str_in.replace('lbs', '')\n",
    "    if(str_in.isnumeric()):\n",
    "        return int(str_in)\n",
    "\n",
    "    return str_in"
   ]
  },
  {
   "cell_type": "code",
   "execution_count": 92,
   "id": "41794395",
   "metadata": {},
   "outputs": [],
   "source": [
    "rating_dict = {'2':1, '4':2, '6':3, '8':4, '10':5}"
   ]
  },
  {
   "cell_type": "code",
   "execution_count": 93,
   "id": "b9414536",
   "metadata": {},
   "outputs": [],
   "source": [
    "df['height'] = df['height'].apply(lambda x: standardize_height(x))\n",
    "df['weight'] = df['weight'].apply(lambda x: standardize_weight(x))\n",
    "df['fit'] = df['fit'].apply(lambda x: x == 'fit')\n",
    "df['review_date'] = df['review_date'].apply(lambda x: datetime.strptime(x, '%B %d, %Y'))\n",
    "df['rating'] = df['rating'].apply(lambda x: rating_dict[x] if type(x) == str else x)"
   ]
  },
  {
   "cell_type": "code",
   "execution_count": 94,
   "id": "74d2fba8",
   "metadata": {},
   "outputs": [
    {
     "data": {
      "text/html": [
       "<div>\n",
       "<style scoped>\n",
       "    .dataframe tbody tr th:only-of-type {\n",
       "        vertical-align: middle;\n",
       "    }\n",
       "\n",
       "    .dataframe tbody tr th {\n",
       "        vertical-align: top;\n",
       "    }\n",
       "\n",
       "    .dataframe thead th {\n",
       "        text-align: right;\n",
       "    }\n",
       "</style>\n",
       "<table border=\"1\" class=\"dataframe\">\n",
       "  <thead>\n",
       "    <tr style=\"text-align: right;\">\n",
       "      <th></th>\n",
       "      <th>fit</th>\n",
       "      <th>user_id</th>\n",
       "      <th>bust size</th>\n",
       "      <th>item_id</th>\n",
       "      <th>weight</th>\n",
       "      <th>rating</th>\n",
       "      <th>rented for</th>\n",
       "      <th>review_text</th>\n",
       "      <th>body type</th>\n",
       "      <th>review_summary</th>\n",
       "      <th>category</th>\n",
       "      <th>height</th>\n",
       "      <th>size</th>\n",
       "      <th>age</th>\n",
       "      <th>review_date</th>\n",
       "    </tr>\n",
       "  </thead>\n",
       "  <tbody>\n",
       "    <tr>\n",
       "      <th>0</th>\n",
       "      <td>True</td>\n",
       "      <td>420272</td>\n",
       "      <td>34d</td>\n",
       "      <td>2260466</td>\n",
       "      <td>137.0</td>\n",
       "      <td>5.0</td>\n",
       "      <td>vacation</td>\n",
       "      <td>An adorable romper! Belt and zipper were a lit...</td>\n",
       "      <td>hourglass</td>\n",
       "      <td>So many compliments!</td>\n",
       "      <td>romper</td>\n",
       "      <td>68.0</td>\n",
       "      <td>14</td>\n",
       "      <td>28</td>\n",
       "      <td>2016-04-20</td>\n",
       "    </tr>\n",
       "    <tr>\n",
       "      <th>1</th>\n",
       "      <td>True</td>\n",
       "      <td>273551</td>\n",
       "      <td>34b</td>\n",
       "      <td>153475</td>\n",
       "      <td>132.0</td>\n",
       "      <td>5.0</td>\n",
       "      <td>other</td>\n",
       "      <td>I rented this dress for a photo shoot. The the...</td>\n",
       "      <td>straight &amp; narrow</td>\n",
       "      <td>I felt so glamourous!!!</td>\n",
       "      <td>gown</td>\n",
       "      <td>66.0</td>\n",
       "      <td>12</td>\n",
       "      <td>36</td>\n",
       "      <td>2013-06-18</td>\n",
       "    </tr>\n",
       "    <tr>\n",
       "      <th>2</th>\n",
       "      <td>True</td>\n",
       "      <td>360448</td>\n",
       "      <td>NaN</td>\n",
       "      <td>1063761</td>\n",
       "      <td>NaN</td>\n",
       "      <td>5.0</td>\n",
       "      <td>party</td>\n",
       "      <td>This hugged in all the right places! It was a ...</td>\n",
       "      <td>NaN</td>\n",
       "      <td>It was a great time to celebrate the (almost) ...</td>\n",
       "      <td>sheath</td>\n",
       "      <td>64.0</td>\n",
       "      <td>4</td>\n",
       "      <td>116</td>\n",
       "      <td>2015-12-14</td>\n",
       "    </tr>\n",
       "    <tr>\n",
       "      <th>3</th>\n",
       "      <td>True</td>\n",
       "      <td>909926</td>\n",
       "      <td>34c</td>\n",
       "      <td>126335</td>\n",
       "      <td>135.0</td>\n",
       "      <td>4.0</td>\n",
       "      <td>formal affair</td>\n",
       "      <td>I rented this for my company's black tie award...</td>\n",
       "      <td>pear</td>\n",
       "      <td>Dress arrived on time and in perfect condition.</td>\n",
       "      <td>dress</td>\n",
       "      <td>65.0</td>\n",
       "      <td>8</td>\n",
       "      <td>34</td>\n",
       "      <td>2014-02-12</td>\n",
       "    </tr>\n",
       "    <tr>\n",
       "      <th>4</th>\n",
       "      <td>True</td>\n",
       "      <td>151944</td>\n",
       "      <td>34b</td>\n",
       "      <td>616682</td>\n",
       "      <td>145.0</td>\n",
       "      <td>5.0</td>\n",
       "      <td>wedding</td>\n",
       "      <td>I have always been petite in my upper body and...</td>\n",
       "      <td>athletic</td>\n",
       "      <td>Was in love with this dress !!!</td>\n",
       "      <td>gown</td>\n",
       "      <td>69.0</td>\n",
       "      <td>12</td>\n",
       "      <td>27</td>\n",
       "      <td>2016-09-26</td>\n",
       "    </tr>\n",
       "  </tbody>\n",
       "</table>\n",
       "</div>"
      ],
      "text/plain": [
       "    fit user_id bust size  item_id  weight  rating     rented for  \\\n",
       "0  True  420272       34d  2260466   137.0     5.0       vacation   \n",
       "1  True  273551       34b   153475   132.0     5.0          other   \n",
       "2  True  360448       NaN  1063761     NaN     5.0          party   \n",
       "3  True  909926       34c   126335   135.0     4.0  formal affair   \n",
       "4  True  151944       34b   616682   145.0     5.0        wedding   \n",
       "\n",
       "                                         review_text          body type  \\\n",
       "0  An adorable romper! Belt and zipper were a lit...          hourglass   \n",
       "1  I rented this dress for a photo shoot. The the...  straight & narrow   \n",
       "2  This hugged in all the right places! It was a ...                NaN   \n",
       "3  I rented this for my company's black tie award...               pear   \n",
       "4  I have always been petite in my upper body and...           athletic   \n",
       "\n",
       "                                      review_summary category  height  size  \\\n",
       "0                               So many compliments!   romper    68.0    14   \n",
       "1                            I felt so glamourous!!!     gown    66.0    12   \n",
       "2  It was a great time to celebrate the (almost) ...   sheath    64.0     4   \n",
       "3   Dress arrived on time and in perfect condition.     dress    65.0     8   \n",
       "4                    Was in love with this dress !!!     gown    69.0    12   \n",
       "\n",
       "   age review_date  \n",
       "0   28  2016-04-20  \n",
       "1   36  2013-06-18  \n",
       "2  116  2015-12-14  \n",
       "3   34  2014-02-12  \n",
       "4   27  2016-09-26  "
      ]
     },
     "execution_count": 94,
     "metadata": {},
     "output_type": "execute_result"
    }
   ],
   "source": [
    "df.head()"
   ]
  },
  {
   "cell_type": "markdown",
   "id": "b50a767f",
   "metadata": {},
   "source": [
    "## Exploratory Data Analysis"
   ]
  },
  {
   "cell_type": "code",
   "execution_count": 95,
   "id": "35d04d98",
   "metadata": {},
   "outputs": [
    {
     "name": "stdout",
     "output_type": "stream",
     "text": [
      "<class 'pandas.core.frame.DataFrame'>\n",
      "RangeIndex: 192544 entries, 0 to 192543\n",
      "Data columns (total 15 columns):\n",
      " #   Column          Non-Null Count   Dtype         \n",
      "---  ------          --------------   -----         \n",
      " 0   fit             192544 non-null  bool          \n",
      " 1   user_id         192544 non-null  object        \n",
      " 2   bust size       174133 non-null  object        \n",
      " 3   item_id         192544 non-null  object        \n",
      " 4   weight          162562 non-null  float64       \n",
      " 5   rating          192462 non-null  float64       \n",
      " 6   rented for      192534 non-null  object        \n",
      " 7   review_text     192544 non-null  object        \n",
      " 8   body type       177907 non-null  object        \n",
      " 9   review_summary  192544 non-null  object        \n",
      " 10  category        192544 non-null  object        \n",
      " 11  height          191867 non-null  float64       \n",
      " 12  size            192544 non-null  int64         \n",
      " 13  age             191584 non-null  object        \n",
      " 14  review_date     192544 non-null  datetime64[ns]\n",
      "dtypes: bool(1), datetime64[ns](1), float64(3), int64(1), object(9)\n",
      "memory usage: 20.7+ MB\n"
     ]
    }
   ],
   "source": [
    "df.info()"
   ]
  },
  {
   "cell_type": "code",
   "execution_count": 96,
   "id": "c63f815c",
   "metadata": {},
   "outputs": [
    {
     "data": {
      "text/html": [
       "<div>\n",
       "<style scoped>\n",
       "    .dataframe tbody tr th:only-of-type {\n",
       "        vertical-align: middle;\n",
       "    }\n",
       "\n",
       "    .dataframe tbody tr th {\n",
       "        vertical-align: top;\n",
       "    }\n",
       "\n",
       "    .dataframe thead th {\n",
       "        text-align: right;\n",
       "    }\n",
       "</style>\n",
       "<table border=\"1\" class=\"dataframe\">\n",
       "  <thead>\n",
       "    <tr style=\"text-align: right;\">\n",
       "      <th></th>\n",
       "      <th>weight</th>\n",
       "      <th>rating</th>\n",
       "      <th>height</th>\n",
       "      <th>size</th>\n",
       "    </tr>\n",
       "  </thead>\n",
       "  <tbody>\n",
       "    <tr>\n",
       "      <th>count</th>\n",
       "      <td>162562.000000</td>\n",
       "      <td>192462.000000</td>\n",
       "      <td>191867.000000</td>\n",
       "      <td>192544.000000</td>\n",
       "    </tr>\n",
       "    <tr>\n",
       "      <th>mean</th>\n",
       "      <td>137.391709</td>\n",
       "      <td>4.546186</td>\n",
       "      <td>65.310621</td>\n",
       "      <td>12.245175</td>\n",
       "    </tr>\n",
       "    <tr>\n",
       "      <th>std</th>\n",
       "      <td>21.899967</td>\n",
       "      <td>0.715022</td>\n",
       "      <td>2.663480</td>\n",
       "      <td>8.494877</td>\n",
       "    </tr>\n",
       "    <tr>\n",
       "      <th>min</th>\n",
       "      <td>50.000000</td>\n",
       "      <td>1.000000</td>\n",
       "      <td>54.000000</td>\n",
       "      <td>0.000000</td>\n",
       "    </tr>\n",
       "    <tr>\n",
       "      <th>25%</th>\n",
       "      <td>123.000000</td>\n",
       "      <td>4.000000</td>\n",
       "      <td>63.000000</td>\n",
       "      <td>8.000000</td>\n",
       "    </tr>\n",
       "    <tr>\n",
       "      <th>50%</th>\n",
       "      <td>135.000000</td>\n",
       "      <td>5.000000</td>\n",
       "      <td>65.000000</td>\n",
       "      <td>12.000000</td>\n",
       "    </tr>\n",
       "    <tr>\n",
       "      <th>75%</th>\n",
       "      <td>148.000000</td>\n",
       "      <td>5.000000</td>\n",
       "      <td>67.000000</td>\n",
       "      <td>16.000000</td>\n",
       "    </tr>\n",
       "    <tr>\n",
       "      <th>max</th>\n",
       "      <td>300.000000</td>\n",
       "      <td>5.000000</td>\n",
       "      <td>78.000000</td>\n",
       "      <td>58.000000</td>\n",
       "    </tr>\n",
       "  </tbody>\n",
       "</table>\n",
       "</div>"
      ],
      "text/plain": [
       "              weight         rating         height           size\n",
       "count  162562.000000  192462.000000  191867.000000  192544.000000\n",
       "mean      137.391709       4.546186      65.310621      12.245175\n",
       "std        21.899967       0.715022       2.663480       8.494877\n",
       "min        50.000000       1.000000      54.000000       0.000000\n",
       "25%       123.000000       4.000000      63.000000       8.000000\n",
       "50%       135.000000       5.000000      65.000000      12.000000\n",
       "75%       148.000000       5.000000      67.000000      16.000000\n",
       "max       300.000000       5.000000      78.000000      58.000000"
      ]
     },
     "execution_count": 96,
     "metadata": {},
     "output_type": "execute_result"
    }
   ],
   "source": [
    "df.describe()"
   ]
  },
  {
   "cell_type": "markdown",
   "id": "364d54e8",
   "metadata": {},
   "source": [
    "### Heights"
   ]
  },
  {
   "cell_type": "code",
   "execution_count": 101,
   "id": "f190b626",
   "metadata": {},
   "outputs": [
    {
     "data": {
      "image/png": "[encoded data removed]",
      "text/plain": [
       "<Figure size 576x432 with 1 Axes>"
      ]
     },
     "metadata": {},
     "output_type": "display_data"
    }
   ],
   "source": [
    "# overview of the whole distribution of height\n",
    "plt.figure(figsize=(8, 6))\n",
    "sns.histplot(data=df,x = 'height', bins=20)\n",
    "plt.xlabel('height (inch)')\n",
    "plt.show()"
   ]
  },
  {
   "cell_type": "code",
   "execution_count": 100,
   "id": "14dd3032",
   "metadata": {},
   "outputs": [
    {
     "data": {
      "image/png": "[encoded data removed]",
      "text/plain": [
       "<Figure size 1080x864 with 6 Axes>"
      ]
     },
     "metadata": {},
     "output_type": "display_data"
    }
   ],
   "source": [
    "# define subplot grid\n",
    "fig, axs = plt.subplots(nrows=3, ncols=2, figsize=(15, 12))\n",
    "plt.subplots_adjust(hspace=0.5)\n",
    "fig.suptitle(\"Height Distribution Per Rating\", fontsize=18, y=0.95)\n",
    "\n",
    "# loop through tickers and axes\n",
    "for gb, ax in zip(df.groupby('rating'), axs.ravel()):\n",
    "    rate, dfs = gb\n",
    "    sns.histplot(data = dfs,x = 'height', bins=20, ax = ax)\n",
    "    ax.set_title(f'Height Distribution of Rating {str(rate)}')\n",
    "    ax.set_xlabel(\"\")\n",
    "\n",
    "plt.show()"
   ]
  },
  {
   "cell_type": "code",
   "execution_count": 52,
   "id": "76a68066",
   "metadata": {},
   "outputs": [
    {
     "data": {
      "text/plain": [
       "0         10\n",
       "1         10\n",
       "2         10\n",
       "3          8\n",
       "4         10\n",
       "          ..\n",
       "192539    10\n",
       "192540    10\n",
       "192541     6\n",
       "192542    10\n",
       "192543    10\n",
       "Name: rating, Length: 192544, dtype: object"
      ]
     },
     "execution_count": 52,
     "metadata": {},
     "output_type": "execute_result"
    }
   ],
   "source": [
    "df['rating']"
   ]
  },
  {
   "cell_type": "markdown",
   "id": "60f53312",
   "metadata": {},
   "source": [
    "### Weights"
   ]
  },
  {
   "cell_type": "code",
   "execution_count": 22,
   "id": "9354f1a2",
   "metadata": {
    "scrolled": true
   },
   "outputs": [
    {
     "data": {
      "image/png": "[encoded data removed]",
      "text/plain": [
       "<Figure size 432x288 with 1 Axes>"
      ]
     },
     "metadata": {},
     "output_type": "display_data"
    }
   ],
   "source": [
    "sns.histplot(data=df, x = 'weight', bins=30)\n",
    "plt.xlabel('weight (lbs)')\n",
    "plt.show()"
   ]
  },
  {
   "cell_type": "markdown",
   "id": "611cd366",
   "metadata": {},
   "source": [
    "### Category data"
   ]
  },
  {
   "cell_type": "code",
   "execution_count": null,
   "id": "6fd649db",
   "metadata": {},
   "outputs": [],
   "source": [
    "rentedFor = []\n",
    "for d in data_renttherunway:\n",
    "    if d.get('rented for') not in rentedFor:\n",
    "        rentedFor.append(d.get('rented for'))"
   ]
  },
  {
   "cell_type": "code",
   "execution_count": null,
   "id": "7f2a4570",
   "metadata": {},
   "outputs": [],
   "source": [
    "rentedFor"
   ]
  },
  {
   "cell_type": "code",
   "execution_count": null,
   "id": "ad39c4d3",
   "metadata": {},
   "outputs": [],
   "source": [
    "bodyType = []\n",
    "for d in data_renttherunway:\n",
    "    if d.get('body type') not in bodyType:\n",
    "        bodyType.append(d.get('body type'))"
   ]
  },
  {
   "cell_type": "code",
   "execution_count": null,
   "id": "1926ef12",
   "metadata": {},
   "outputs": [],
   "source": [
    "bodyType"
   ]
  },
  {
   "cell_type": "code",
   "execution_count": null,
   "id": "46fa88e0",
   "metadata": {},
   "outputs": [],
   "source": [
    "category = []\n",
    "for d in data_renttherunway:\n",
    "    if d.get('category') not in category:\n",
    "        category.append(d.get('category'))"
   ]
  },
  {
   "cell_type": "code",
   "execution_count": null,
   "id": "bc7fe4a7",
   "metadata": {},
   "outputs": [],
   "source": [
    "category"
   ]
  },
  {
   "cell_type": "code",
   "execution_count": null,
   "id": "2fa0f852",
   "metadata": {},
   "outputs": [],
   "source": []
  },
  {
   "cell_type": "code",
   "execution_count": null,
   "id": "eb4726ea",
   "metadata": {},
   "outputs": [],
   "source": []
  }
 ],
 "metadata": {
  "kernelspec": {
   "display_name": "Python 3.8.8 ('base')",
   "language": "python",
   "name": "python3"
  },
  "language_info": {
   "codemirror_mode": {
    "name": "ipython",
    "version": 3
   },
   "file_extension": ".py",
   "mimetype": "text/x-python",
   "name": "python",
   "nbconvert_exporter": "python",
   "pygments_lexer": "ipython3",
   "version": "3.8.8"
  },
  "vscode": {
   "interpreter": {
    "hash": "40d3a090f54c6569ab1632332b64b2c03c39dcf918b08424e98f38b5ae0af88f"
   }
  }
 },
 "nbformat": 4,
 "nbformat_minor": 5
}
