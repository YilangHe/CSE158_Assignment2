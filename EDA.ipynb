{
 "cells": [
  {
   "cell_type": "markdown",
   "id": "5578bd05",
   "metadata": {},
   "source": [
    "## Import packages"
   ]
  },
  {
   "cell_type": "code",
   "execution_count": 122,
   "id": "4acea91e",
   "metadata": {},
   "outputs": [],
   "source": [
    "import gzip\n",
    "import json\n",
    "import numpy as np\n",
    "import matplotlib.pyplot as plt\n",
    "import seaborn as sns\n",
    "import pandas as pd\n",
    "from datetime import datetime\n",
    "sns.set()\n",
    "sns.set_context('talk')"
   ]
  },
  {
   "cell_type": "code",
   "execution_count": 123,
   "id": "246fc4bb",
   "metadata": {},
   "outputs": [],
   "source": [
    "def parse(path):\n",
    "    g = gzip.open(path, 'r')\n",
    "    for l in g:\n",
    "        l = str(json.loads(l))\n",
    "        yield eval(l)"
   ]
  },
  {
   "cell_type": "markdown",
   "id": "a6597ffe",
   "metadata": {},
   "source": [
    "## Import dataset"
   ]
  },
  {
   "cell_type": "code",
   "execution_count": 124,
   "id": "0c95cf81",
   "metadata": {},
   "outputs": [],
   "source": [
    "data_modcloth = []\n",
    "for l in parse(\"modcloth_final_data.json.gz\"):\n",
    "    data_modcloth.append(l)"
   ]
  },
  {
   "cell_type": "code",
   "execution_count": 125,
   "id": "8625e0e4",
   "metadata": {},
   "outputs": [
    {
     "data": {
      "text/plain": [
       "{'item_id': '123373',\n",
       " 'waist': '29',\n",
       " 'size': 7,\n",
       " 'quality': 5,\n",
       " 'cup size': 'd',\n",
       " 'hips': '38',\n",
       " 'bra size': '34',\n",
       " 'category': 'new',\n",
       " 'bust': '36',\n",
       " 'height': '5ft 6in',\n",
       " 'user_name': 'Emily',\n",
       " 'length': 'just right',\n",
       " 'fit': 'small',\n",
       " 'user_id': '991571'}"
      ]
     },
     "execution_count": 125,
     "metadata": {},
     "output_type": "execute_result"
    }
   ],
   "source": [
    "data_modcloth[0]"
   ]
  },
  {
   "cell_type": "code",
   "execution_count": 126,
   "id": "5f5dd566",
   "metadata": {},
   "outputs": [],
   "source": [
    "data_renttherunway = []\n",
    "for l in parse(\"renttherunway_final_data.json.gz\"):\n",
    "    data_renttherunway.append(l)"
   ]
  },
  {
   "cell_type": "code",
   "execution_count": 127,
   "id": "b8cc3922",
   "metadata": {
    "scrolled": false
   },
   "outputs": [
    {
     "data": {
      "text/plain": [
       "{'fit': 'fit',\n",
       " 'user_id': '420272',\n",
       " 'bust size': '34d',\n",
       " 'item_id': '2260466',\n",
       " 'weight': '137lbs',\n",
       " 'rating': '10',\n",
       " 'rented for': 'vacation',\n",
       " 'review_text': \"An adorable romper! Belt and zipper were a little hard to navigate in a full day of wear/bathroom use, but that's to be expected. Wish it had pockets, but other than that-- absolutely perfect! I got a million compliments.\",\n",
       " 'body type': 'hourglass',\n",
       " 'review_summary': 'So many compliments!',\n",
       " 'category': 'romper',\n",
       " 'height': '5\\' 8\"',\n",
       " 'size': 14,\n",
       " 'age': '28',\n",
       " 'review_date': 'April 20, 2016'}"
      ]
     },
     "execution_count": 127,
     "metadata": {},
     "output_type": "execute_result"
    }
   ],
   "source": [
    "data_renttherunway[0]"
   ]
  },
  {
   "cell_type": "code",
   "execution_count": 128,
   "id": "e0e3122a",
   "metadata": {},
   "outputs": [
    {
     "data": {
      "text/plain": [
       "192544"
      ]
     },
     "execution_count": 128,
     "metadata": {},
     "output_type": "execute_result"
    }
   ],
   "source": [
    "len(data_renttherunway)"
   ]
  },
  {
   "cell_type": "markdown",
   "id": "1928280c",
   "metadata": {},
   "source": [
    "## Data Clean"
   ]
  },
  {
   "cell_type": "code",
   "execution_count": 129,
   "id": "167c0f23",
   "metadata": {},
   "outputs": [],
   "source": [
    "df = pd.DataFrame(data_renttherunway)"
   ]
  },
  {
   "cell_type": "code",
   "execution_count": 130,
   "id": "eed7081a",
   "metadata": {},
   "outputs": [],
   "source": [
    "def standardize_height(str_in):\n",
    "    if type(str_in) == float:\n",
    "        return str_in\n",
    "    str_in = str_in.strip()\n",
    "    if '\\'' in str_in:\n",
    "        str_in = str_in.replace('\\'', '')\n",
    "    if '\"' in str_in:\n",
    "        str_in = str_in.replace('\"', '')\n",
    "\n",
    "    foot,inch = str_in.strip().split(' ')\n",
    "    output = int(foot) * 12 + int(inch)\n",
    "\n",
    "    return output"
   ]
  },
  {
   "cell_type": "code",
   "execution_count": 131,
   "id": "e6bef124",
   "metadata": {},
   "outputs": [],
   "source": [
    "def standardize_weight(str_in):\n",
    "    if type(str_in) == float:\n",
    "        return str_in\n",
    "    if 'lbs' in str_in:\n",
    "        str_in = str_in.replace('lbs', '')\n",
    "    if(str_in.isnumeric()):\n",
    "        return int(str_in)\n",
    "\n",
    "    return str_in"
   ]
  },
  {
   "cell_type": "code",
   "execution_count": 132,
   "id": "b9414536",
   "metadata": {},
   "outputs": [],
   "source": [
    "df['height'] = df['height'].apply(lambda x: standardize_height(x))\n",
    "df['weight'] = df['weight'].apply(lambda x: standardize_weight(x))\n",
    "df['fit'] = df['fit'].apply(lambda x: x == 'fit')\n",
    "df['review_date'] = df['review_date'].apply(lambda x: datetime.strptime(df['review_date'][0], '%B %d, %Y'))"
   ]
  },
  {
   "cell_type": "code",
   "execution_count": 133,
   "id": "74d2fba8",
   "metadata": {},
   "outputs": [
    {
     "data": {
      "text/html": [
       "<div>\n",
       "<style scoped>\n",
       "    .dataframe tbody tr th:only-of-type {\n",
       "        vertical-align: middle;\n",
       "    }\n",
       "\n",
       "    .dataframe tbody tr th {\n",
       "        vertical-align: top;\n",
       "    }\n",
       "\n",
       "    .dataframe thead th {\n",
       "        text-align: right;\n",
       "    }\n",
       "</style>\n",
       "<table border=\"1\" class=\"dataframe\">\n",
       "  <thead>\n",
       "    <tr style=\"text-align: right;\">\n",
       "      <th></th>\n",
       "      <th>fit</th>\n",
       "      <th>user_id</th>\n",
       "      <th>bust size</th>\n",
       "      <th>item_id</th>\n",
       "      <th>weight</th>\n",
       "      <th>rating</th>\n",
       "      <th>rented for</th>\n",
       "      <th>review_text</th>\n",
       "      <th>body type</th>\n",
       "      <th>review_summary</th>\n",
       "      <th>category</th>\n",
       "      <th>height</th>\n",
       "      <th>size</th>\n",
       "      <th>age</th>\n",
       "      <th>review_date</th>\n",
       "    </tr>\n",
       "  </thead>\n",
       "  <tbody>\n",
       "    <tr>\n",
       "      <th>0</th>\n",
       "      <td>True</td>\n",
       "      <td>420272</td>\n",
       "      <td>34d</td>\n",
       "      <td>2260466</td>\n",
       "      <td>137.0</td>\n",
       "      <td>10</td>\n",
       "      <td>vacation</td>\n",
       "      <td>An adorable romper! Belt and zipper were a lit...</td>\n",
       "      <td>hourglass</td>\n",
       "      <td>So many compliments!</td>\n",
       "      <td>romper</td>\n",
       "      <td>68.0</td>\n",
       "      <td>14</td>\n",
       "      <td>28</td>\n",
       "      <td>2016-04-20</td>\n",
       "    </tr>\n",
       "    <tr>\n",
       "      <th>1</th>\n",
       "      <td>True</td>\n",
       "      <td>273551</td>\n",
       "      <td>34b</td>\n",
       "      <td>153475</td>\n",
       "      <td>132.0</td>\n",
       "      <td>10</td>\n",
       "      <td>other</td>\n",
       "      <td>I rented this dress for a photo shoot. The the...</td>\n",
       "      <td>straight &amp; narrow</td>\n",
       "      <td>I felt so glamourous!!!</td>\n",
       "      <td>gown</td>\n",
       "      <td>66.0</td>\n",
       "      <td>12</td>\n",
       "      <td>36</td>\n",
       "      <td>2016-04-20</td>\n",
       "    </tr>\n",
       "    <tr>\n",
       "      <th>2</th>\n",
       "      <td>True</td>\n",
       "      <td>360448</td>\n",
       "      <td>NaN</td>\n",
       "      <td>1063761</td>\n",
       "      <td>NaN</td>\n",
       "      <td>10</td>\n",
       "      <td>party</td>\n",
       "      <td>This hugged in all the right places! It was a ...</td>\n",
       "      <td>NaN</td>\n",
       "      <td>It was a great time to celebrate the (almost) ...</td>\n",
       "      <td>sheath</td>\n",
       "      <td>64.0</td>\n",
       "      <td>4</td>\n",
       "      <td>116</td>\n",
       "      <td>2016-04-20</td>\n",
       "    </tr>\n",
       "    <tr>\n",
       "      <th>3</th>\n",
       "      <td>True</td>\n",
       "      <td>909926</td>\n",
       "      <td>34c</td>\n",
       "      <td>126335</td>\n",
       "      <td>135.0</td>\n",
       "      <td>8</td>\n",
       "      <td>formal affair</td>\n",
       "      <td>I rented this for my company's black tie award...</td>\n",
       "      <td>pear</td>\n",
       "      <td>Dress arrived on time and in perfect condition.</td>\n",
       "      <td>dress</td>\n",
       "      <td>65.0</td>\n",
       "      <td>8</td>\n",
       "      <td>34</td>\n",
       "      <td>2016-04-20</td>\n",
       "    </tr>\n",
       "    <tr>\n",
       "      <th>4</th>\n",
       "      <td>True</td>\n",
       "      <td>151944</td>\n",
       "      <td>34b</td>\n",
       "      <td>616682</td>\n",
       "      <td>145.0</td>\n",
       "      <td>10</td>\n",
       "      <td>wedding</td>\n",
       "      <td>I have always been petite in my upper body and...</td>\n",
       "      <td>athletic</td>\n",
       "      <td>Was in love with this dress !!!</td>\n",
       "      <td>gown</td>\n",
       "      <td>69.0</td>\n",
       "      <td>12</td>\n",
       "      <td>27</td>\n",
       "      <td>2016-04-20</td>\n",
       "    </tr>\n",
       "  </tbody>\n",
       "</table>\n",
       "</div>"
      ],
      "text/plain": [
       "    fit user_id bust size  item_id  weight rating     rented for  \\\n",
       "0  True  420272       34d  2260466   137.0     10       vacation   \n",
       "1  True  273551       34b   153475   132.0     10          other   \n",
       "2  True  360448       NaN  1063761     NaN     10          party   \n",
       "3  True  909926       34c   126335   135.0      8  formal affair   \n",
       "4  True  151944       34b   616682   145.0     10        wedding   \n",
       "\n",
       "                                         review_text          body type  \\\n",
       "0  An adorable romper! Belt and zipper were a lit...          hourglass   \n",
       "1  I rented this dress for a photo shoot. The the...  straight & narrow   \n",
       "2  This hugged in all the right places! It was a ...                NaN   \n",
       "3  I rented this for my company's black tie award...               pear   \n",
       "4  I have always been petite in my upper body and...           athletic   \n",
       "\n",
       "                                      review_summary category  height  size  \\\n",
       "0                               So many compliments!   romper    68.0    14   \n",
       "1                            I felt so glamourous!!!     gown    66.0    12   \n",
       "2  It was a great time to celebrate the (almost) ...   sheath    64.0     4   \n",
       "3   Dress arrived on time and in perfect condition.     dress    65.0     8   \n",
       "4                    Was in love with this dress !!!     gown    69.0    12   \n",
       "\n",
       "   age review_date  \n",
       "0   28  2016-04-20  \n",
       "1   36  2016-04-20  \n",
       "2  116  2016-04-20  \n",
       "3   34  2016-04-20  \n",
       "4   27  2016-04-20  "
      ]
     },
     "execution_count": 133,
     "metadata": {},
     "output_type": "execute_result"
    }
   ],
   "source": [
    "df.head()"
   ]
  },
  {
   "cell_type": "markdown",
   "id": "364d54e8",
   "metadata": {},
   "source": [
    "Clean/EDA Heights"
   ]
  },
  {
   "cell_type": "code",
   "execution_count": 108,
   "id": "64cbac77",
   "metadata": {},
   "outputs": [],
   "source": [
    "original_heights = [d['height'] for d in data_renttherunway if d.get('height') != None]\n",
    "heights = [standardize_height(h) for h in original_heights]"
   ]
  },
  {
   "cell_type": "code",
   "execution_count": 109,
   "id": "8bd36e5f",
   "metadata": {},
   "outputs": [
    {
     "data": {
      "text/plain": [
       "(191867, 65.31062142004617, 65.0)"
      ]
     },
     "execution_count": 109,
     "metadata": {},
     "output_type": "execute_result"
    }
   ],
   "source": [
    "len(heights), np.mean(heights), np.median(heights)"
   ]
  },
  {
   "cell_type": "code",
   "execution_count": 110,
   "id": "1be6d25c",
   "metadata": {
    "scrolled": true
   },
   "outputs": [
    {
     "data": {
      "text/plain": [
       "array([54, 55, 56, 57, 58, 59, 60, 61, 62, 63, 64, 65, 66, 67, 68, 69, 70,\n",
       "       71, 72, 73, 74, 75, 76, 78])"
      ]
     },
     "execution_count": 110,
     "metadata": {},
     "output_type": "execute_result"
    }
   ],
   "source": [
    "np.unique(heights)"
   ]
  },
  {
   "cell_type": "code",
   "execution_count": 111,
   "id": "1801253e",
   "metadata": {
    "scrolled": true
   },
   "outputs": [
    {
     "data": {
      "text/plain": [
       "Text(0.5, 0, 'height (inch)')"
      ]
     },
     "execution_count": 111,
     "metadata": {},
     "output_type": "execute_result"
    },
    {
     "data": {
      "image/png": "[encoded data removed]",
      "text/plain": [
       "<Figure size 432x288 with 1 Axes>"
      ]
     },
     "metadata": {},
     "output_type": "display_data"
    }
   ],
   "source": [
    "sns.histplot(data=heights, bins=20)\n",
    "plt.xlabel('height (inch)', color='blue')"
   ]
  },
  {
   "cell_type": "code",
   "execution_count": 112,
   "id": "a89899ca",
   "metadata": {},
   "outputs": [],
   "source": [
    "heights = []\n",
    "for d in data_renttherunway:\n",
    "\n",
    "    if d.get('height') != None:\n",
    "        d['height'] = standardize_height(d['height'])\n",
    "        heights.append(d['height'])\n",
    "    else:\n",
    "        data_renttherunway.remove(d)"
   ]
  },
  {
   "cell_type": "code",
   "execution_count": 116,
   "id": "39a1ceed",
   "metadata": {},
   "outputs": [
    {
     "data": {
      "text/plain": [
       "673"
      ]
     },
     "execution_count": 116,
     "metadata": {},
     "output_type": "execute_result"
    }
   ],
   "source": [
    "c=0\n",
    "for d in data_renttherunway:\n",
    "    a = d.get('height')\n",
    "#     if a == None:\n",
    "    if type(a) == str:\n",
    "#         print(d)\n",
    "        c+=1\n",
    "c"
   ]
  },
  {
   "cell_type": "code",
   "execution_count": 18,
   "id": "d43a792b",
   "metadata": {},
   "outputs": [],
   "source": [
    "# [d.get('height') for d in data_renttherunway]"
   ]
  },
  {
   "cell_type": "markdown",
   "id": "60f53312",
   "metadata": {},
   "source": [
    "Clean/EDA Weights"
   ]
  },
  {
   "cell_type": "code",
   "execution_count": 19,
   "id": "4e63759e",
   "metadata": {
    "scrolled": true
   },
   "outputs": [
    {
     "data": {
      "text/plain": [
       "191869"
      ]
     },
     "execution_count": 19,
     "metadata": {},
     "output_type": "execute_result"
    }
   ],
   "source": [
    "len([d.get('weight') for d in data_renttherunway])"
   ]
  },
  {
   "cell_type": "code",
   "execution_count": 21,
   "id": "137299d1",
   "metadata": {
    "scrolled": true
   },
   "outputs": [],
   "source": [
    "original_weights = [d['weight'] for d in data_renttherunway if d.get('weight') != None]\n",
    "weights = [standardize_weight(h) for h in original_weights]"
   ]
  },
  {
   "cell_type": "code",
   "execution_count": 22,
   "id": "131a0416",
   "metadata": {},
   "outputs": [
    {
     "data": {
      "text/plain": [
       "(162119, 137.39227357681702, 135.0)"
      ]
     },
     "execution_count": 22,
     "metadata": {},
     "output_type": "execute_result"
    }
   ],
   "source": [
    "len(weights), np.mean(weights), np.median(weights)"
   ]
  },
  {
   "cell_type": "code",
   "execution_count": 23,
   "id": "0adc01cf",
   "metadata": {},
   "outputs": [
    {
     "data": {
      "text/plain": [
       "190"
      ]
     },
     "execution_count": 23,
     "metadata": {},
     "output_type": "execute_result"
    }
   ],
   "source": [
    "len(np.unique(weights))"
   ]
  },
  {
   "cell_type": "code",
   "execution_count": 24,
   "id": "9354f1a2",
   "metadata": {
    "scrolled": true
   },
   "outputs": [
    {
     "data": {
      "text/plain": [
       "Text(0.5, 0, 'weight (lbs)')"
      ]
     },
     "execution_count": 24,
     "metadata": {},
     "output_type": "execute_result"
    },
    {
     "data": {
      "image/png": "[encoded data removed]",
      "text/plain": [
       "<Figure size 432x288 with 1 Axes>"
      ]
     },
     "metadata": {},
     "output_type": "display_data"
    }
   ],
   "source": [
    "sns.histplot(data=weights, bins=30)\n",
    "plt.xlabel('weight (lbs)')"
   ]
  },
  {
   "cell_type": "code",
   "execution_count": 25,
   "id": "3b85cf9b",
   "metadata": {},
   "outputs": [],
   "source": [
    "weights = []\n",
    "for d in data_renttherunway:\n",
    "\n",
    "    if d.get('weight') != None:\n",
    "        d['weight'] = standardize_weight(d['weight'])\n",
    "        weights.append(d['weight'])\n",
    "    else:\n",
    "        data_renttherunway.remove(d)"
   ]
  },
  {
   "cell_type": "code",
   "execution_count": 26,
   "id": "e2008d4e",
   "metadata": {
    "scrolled": true
   },
   "outputs": [
    {
     "data": {
      "text/plain": [
       "166104"
      ]
     },
     "execution_count": 26,
     "metadata": {},
     "output_type": "execute_result"
    }
   ],
   "source": [
    "len(data_renttherunway)"
   ]
  },
  {
   "cell_type": "code",
   "execution_count": 27,
   "id": "b1495411",
   "metadata": {},
   "outputs": [],
   "source": [
    "# [d.get('weight') for d in data_renttherunway]"
   ]
  },
  {
   "cell_type": "code",
   "execution_count": 28,
   "id": "1e2cc1fc",
   "metadata": {},
   "outputs": [
    {
     "data": {
      "text/plain": [
       "{'fit': 'fit',\n",
       " 'user_id': '420272',\n",
       " 'bust size': '34d',\n",
       " 'item_id': '2260466',\n",
       " 'weight': 137,\n",
       " 'rating': '10',\n",
       " 'rented for': 'vacation',\n",
       " 'review_text': \"An adorable romper! Belt and zipper were a little hard to navigate in a full day of wear/bathroom use, but that's to be expected. Wish it had pockets, but other than that-- absolutely perfect! I got a million compliments.\",\n",
       " 'body type': 'hourglass',\n",
       " 'review_summary': 'So many compliments!',\n",
       " 'category': 'romper',\n",
       " 'height': 68,\n",
       " 'size': 14,\n",
       " 'age': '28',\n",
       " 'review_date': 'April 20, 2016'}"
      ]
     },
     "execution_count": 28,
     "metadata": {},
     "output_type": "execute_result"
    }
   ],
   "source": [
    "data_renttherunway[0]"
   ]
  },
  {
   "cell_type": "markdown",
   "id": "611cd366",
   "metadata": {},
   "source": [
    "Clean/EDA category data"
   ]
  },
  {
   "cell_type": "code",
   "execution_count": 29,
   "id": "6fd649db",
   "metadata": {},
   "outputs": [],
   "source": [
    "rentedFor = []\n",
    "for d in data_renttherunway:\n",
    "    if d.get('rented for') not in rentedFor:\n",
    "        rentedFor.append(d.get('rented for'))"
   ]
  },
  {
   "cell_type": "code",
   "execution_count": 30,
   "id": "7f2a4570",
   "metadata": {},
   "outputs": [
    {
     "data": {
      "text/plain": [
       "['vacation',\n",
       " 'other',\n",
       " 'formal affair',\n",
       " 'wedding',\n",
       " 'date',\n",
       " 'everyday',\n",
       " 'party',\n",
       " 'work',\n",
       " None,\n",
       " 'party: cocktail']"
      ]
     },
     "execution_count": 30,
     "metadata": {},
     "output_type": "execute_result"
    }
   ],
   "source": [
    "rentedFor"
   ]
  },
  {
   "cell_type": "code",
   "execution_count": 31,
   "id": "ad39c4d3",
   "metadata": {},
   "outputs": [],
   "source": [
    "bodyType = []\n",
    "for d in data_renttherunway:\n",
    "    if d.get('body type') not in bodyType:\n",
    "        bodyType.append(d.get('body type'))"
   ]
  },
  {
   "cell_type": "code",
   "execution_count": 32,
   "id": "1926ef12",
   "metadata": {},
   "outputs": [
    {
     "data": {
      "text/plain": [
       "['hourglass',\n",
       " 'straight & narrow',\n",
       " 'pear',\n",
       " 'athletic',\n",
       " 'full bust',\n",
       " 'petite',\n",
       " 'apple',\n",
       " None]"
      ]
     },
     "execution_count": 32,
     "metadata": {},
     "output_type": "execute_result"
    }
   ],
   "source": [
    "bodyType"
   ]
  },
  {
   "cell_type": "code",
   "execution_count": 33,
   "id": "46fa88e0",
   "metadata": {},
   "outputs": [],
   "source": [
    "category = []\n",
    "for d in data_renttherunway:\n",
    "    if d.get('category') not in category:\n",
    "        category.append(d.get('category'))"
   ]
  },
  {
   "cell_type": "code",
   "execution_count": 34,
   "id": "bc7fe4a7",
   "metadata": {},
   "outputs": [
    {
     "data": {
      "text/plain": [
       "['romper',\n",
       " 'gown',\n",
       " 'dress',\n",
       " 'sheath',\n",
       " 'leggings',\n",
       " 'sweater',\n",
       " 'jacket',\n",
       " 'shirtdress',\n",
       " 'jumpsuit',\n",
       " 'maxi',\n",
       " 'shift',\n",
       " 'top',\n",
       " 'shirt',\n",
       " 'mini',\n",
       " 'skirt',\n",
       " 'pullover',\n",
       " 'pants',\n",
       " 'suit',\n",
       " 'coat',\n",
       " 'blouse',\n",
       " 'trench',\n",
       " 'cape',\n",
       " 'bomber',\n",
       " 'blazer',\n",
       " 'vest',\n",
       " 'duster',\n",
       " 'ballgown',\n",
       " 'tank',\n",
       " 'poncho',\n",
       " 'frock',\n",
       " 'tunic',\n",
       " 'cardigan',\n",
       " 'culottes',\n",
       " 'down',\n",
       " 'midi',\n",
       " 'legging',\n",
       " 'print',\n",
       " 'pant',\n",
       " 'knit',\n",
       " 'culotte',\n",
       " 'sweatshirt',\n",
       " 'peacoat',\n",
       " 'trouser',\n",
       " 'kaftan',\n",
       " 'overalls',\n",
       " 'jogger',\n",
       " 'tee',\n",
       " 'combo',\n",
       " 'henley',\n",
       " 'blouson',\n",
       " 'turtleneck',\n",
       " 'trousers',\n",
       " 'overcoat',\n",
       " 'hoodie',\n",
       " 't-shirt',\n",
       " 'caftan',\n",
       " 'tight',\n",
       " 'kimono',\n",
       " 'cami',\n",
       " 'for',\n",
       " 'crewneck',\n",
       " 'skirts',\n",
       " 'parka',\n",
       " 'buttondown',\n",
       " 'skort',\n",
       " 'sweatershirt',\n",
       " 'jeans',\n",
       " 'sweatpants']"
      ]
     },
     "execution_count": 34,
     "metadata": {},
     "output_type": "execute_result"
    }
   ],
   "source": [
    "category"
   ]
  },
  {
   "cell_type": "code",
   "execution_count": null,
   "id": "2fa0f852",
   "metadata": {},
   "outputs": [],
   "source": []
  },
  {
   "cell_type": "code",
   "execution_count": null,
   "id": "eb4726ea",
   "metadata": {},
   "outputs": [],
   "source": []
  }
 ],
 "metadata": {
  "kernelspec": {
   "display_name": "Python 3.8.8 ('base')",
   "language": "python",
   "name": "python3"
  },
  "language_info": {
   "codemirror_mode": {
    "name": "ipython",
    "version": 3
   },
   "file_extension": ".py",
   "mimetype": "text/x-python",
   "name": "python",
   "nbconvert_exporter": "python",
   "pygments_lexer": "ipython3",
   "version": "3.8.8"
  },
  "vscode": {
   "interpreter": {
    "hash": "40d3a090f54c6569ab1632332b64b2c03c39dcf918b08424e98f38b5ae0af88f"
   }
  }
 },
 "nbformat": 4,
 "nbformat_minor": 5
}
