{
 "cells": [
  {
   "cell_type": "code",
   "execution_count": 152,
   "id": "defcefbe",
   "metadata": {},
   "outputs": [],
   "source": [
    "import gzip\n",
    "import json\n",
    "import numpy as np\n",
    "import matplotlib.pyplot as plt\n",
    "import seaborn as sns\n",
    "sns.set()\n",
    "sns.set_context('talk')"
   ]
  },
  {
   "cell_type": "code",
   "execution_count": 2,
   "id": "246fc4bb",
   "metadata": {},
   "outputs": [],
   "source": [
    "def parse(path):\n",
    "    g = gzip.open(path, 'r')\n",
    "    for l in g:\n",
    "        l = str(json.loads(l))\n",
    "        yield eval(l)"
   ]
  },
  {
   "cell_type": "code",
   "execution_count": 3,
   "id": "0c95cf81",
   "metadata": {},
   "outputs": [],
   "source": [
    "data_modcloth = []\n",
    "for l in parse(\"modcloth_final_data.json.gz\"):\n",
    "    \n",
    "    data_modcloth.append(l)"
   ]
  },
  {
   "cell_type": "code",
   "execution_count": null,
   "id": "8625e0e4",
   "metadata": {},
   "outputs": [],
   "source": []
  },
  {
   "cell_type": "code",
   "execution_count": 317,
   "id": "5f5dd566",
   "metadata": {},
   "outputs": [],
   "source": [
    "data_renttherunway = []\n",
    "for l in parse(\"renttherunway_final_data.json.gz\"):\n",
    "    \n",
    "    data_renttherunway.append(l)"
   ]
  },
  {
   "cell_type": "code",
   "execution_count": 318,
   "id": "b8cc3922",
   "metadata": {
    "scrolled": false
   },
   "outputs": [
    {
     "data": {
      "text/plain": [
       "{'fit': 'fit',\n",
       " 'user_id': '420272',\n",
       " 'bust size': '34d',\n",
       " 'item_id': '2260466',\n",
       " 'weight': '137lbs',\n",
       " 'rating': '10',\n",
       " 'rented for': 'vacation',\n",
       " 'review_text': \"An adorable romper! Belt and zipper were a little hard to navigate in a full day of wear/bathroom use, but that's to be expected. Wish it had pockets, but other than that-- absolutely perfect! I got a million compliments.\",\n",
       " 'body type': 'hourglass',\n",
       " 'review_summary': 'So many compliments!',\n",
       " 'category': 'romper',\n",
       " 'height': '5\\' 8\"',\n",
       " 'size': 14,\n",
       " 'age': '28',\n",
       " 'review_date': 'April 20, 2016'}"
      ]
     },
     "execution_count": 318,
     "metadata": {},
     "output_type": "execute_result"
    }
   ],
   "source": [
    "data_renttherunway[0]"
   ]
  },
  {
   "cell_type": "code",
   "execution_count": 319,
   "id": "e0e3122a",
   "metadata": {},
   "outputs": [
    {
     "data": {
      "text/plain": [
       "192544"
      ]
     },
     "execution_count": 319,
     "metadata": {},
     "output_type": "execute_result"
    }
   ],
   "source": [
    "len(data_renttherunway)"
   ]
  },
  {
   "cell_type": "code",
   "execution_count": 320,
   "id": "cf782304",
   "metadata": {},
   "outputs": [],
   "source": [
    "def standardize_height(str_in):\n",
    "\n",
    "    if '\\'' in str_in:\n",
    "        str_in = str_in.replace('\\'', '')\n",
    "    if '\"' in str_in:\n",
    "        str_in = str_in.replace('\"', '')\n",
    "\n",
    "    foot,inch = str_in.strip().split(' ')\n",
    "    output = int(foot) * 12 + int(inch)\n",
    "\n",
    "    return output"
   ]
  },
  {
   "cell_type": "code",
   "execution_count": 321,
   "id": "a89899ca",
   "metadata": {},
   "outputs": [],
   "source": [
    "heights = []\n",
    "for d in data_renttherunway:\n",
    "#     if d.get('height') == None:\n",
    "#         data_renttherunway.remove(d)\n",
    "    if d.get('height') != None:\n",
    "        d['height'] = standardize_height(d['height'])\n",
    "        heights.append(d['height'])"
   ]
  },
  {
   "cell_type": "code",
   "execution_count": 322,
   "id": "9d98af57",
   "metadata": {},
   "outputs": [
    {
     "data": {
      "text/plain": [
       "192544"
      ]
     },
     "execution_count": 322,
     "metadata": {},
     "output_type": "execute_result"
    }
   ],
   "source": [
    "len(data_renttherunway)"
   ]
  },
  {
   "cell_type": "code",
   "execution_count": 325,
   "id": "8911a6d5",
   "metadata": {},
   "outputs": [
    {
     "data": {
      "text/plain": [
       "192544"
      ]
     },
     "execution_count": 325,
     "metadata": {},
     "output_type": "execute_result"
    }
   ],
   "source": [
    "len([d.get('height') for d in data_renttherunway])"
   ]
  },
  {
   "cell_type": "code",
   "execution_count": 335,
   "id": "39a1ceed",
   "metadata": {},
   "outputs": [],
   "source": [
    "# c=0\n",
    "# for d in data_renttherunway:\n",
    "#     a = d.get('height')\n",
    "#     if a == None:\n",
    "#         print(d)\n",
    "#         c+= 1"
   ]
  },
  {
   "cell_type": "code",
   "execution_count": 336,
   "id": "89190264",
   "metadata": {},
   "outputs": [],
   "source": [
    "# c"
   ]
  },
  {
   "cell_type": "code",
   "execution_count": 337,
   "id": "8bd36e5f",
   "metadata": {},
   "outputs": [
    {
     "data": {
      "text/plain": [
       "(191867, 65.31062142004617, 65.0)"
      ]
     },
     "execution_count": 337,
     "metadata": {},
     "output_type": "execute_result"
    }
   ],
   "source": [
    "len(heights), np.mean(heights), np.median(heights)"
   ]
  },
  {
   "cell_type": "code",
   "execution_count": 338,
   "id": "1be6d25c",
   "metadata": {},
   "outputs": [
    {
     "data": {
      "text/plain": [
       "array([54, 55, 56, 57, 58, 59, 60, 61, 62, 63, 64, 65, 66, 67, 68, 69, 70,\n",
       "       71, 72, 73, 74, 75, 76, 78])"
      ]
     },
     "execution_count": 338,
     "metadata": {},
     "output_type": "execute_result"
    }
   ],
   "source": [
    "np.unique(heights)"
   ]
  },
  {
   "cell_type": "code",
   "execution_count": 339,
   "id": "1801253e",
   "metadata": {},
   "outputs": [
    {
     "data": {
      "text/plain": [
       "Text(0.5, 0, 'height (inch)')"
      ]
     },
     "execution_count": 339,
     "metadata": {},
     "output_type": "execute_result"
    },
    {
     "data": {
      "image/png": "[encoded data removed]",
      "text/plain": [
       "<Figure size 432x288 with 1 Axes>"
      ]
     },
     "metadata": {},
     "output_type": "display_data"
    }
   ],
   "source": [
    "sns.histplot(data=heights, bins=20)\n",
    "plt.xlabel('height (inch)')"
   ]
  },
  {
   "cell_type": "code",
   "execution_count": null,
   "id": "4e4671ea",
   "metadata": {},
   "outputs": [],
   "source": []
  }
 ],
 "metadata": {
  "kernelspec": {
   "display_name": "Python 3 (ipykernel)",
   "language": "python",
   "name": "python3"
  },
  "language_info": {
   "codemirror_mode": {
    "name": "ipython",
    "version": 3
   },
   "file_extension": ".py",
   "mimetype": "text/x-python",
   "name": "python",
   "nbconvert_exporter": "python",
   "pygments_lexer": "ipython3",
   "version": "3.9.7"
  }
 },
 "nbformat": 4,
 "nbformat_minor": 5
}
