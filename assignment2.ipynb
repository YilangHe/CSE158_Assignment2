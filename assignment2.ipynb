{
  "cells": [
    {
      "cell_type": "code",
      "execution_count": 24,
      "id": "9e1c0f68",
      "metadata": {
        "id": "9e1c0f68"
      },
      "outputs": [],
      "source": [
        "import gzip\n",
        "import json\n",
        "from collections import defaultdict\n",
        "import math\n",
        "from sklearn import svm\n",
        "import numpy as np\n",
        "import string\n",
        "import random\n",
        "import string\n",
        "import csv\n",
        "import nltk"
      ]
    },
    {
      "cell_type": "code",
      "source": [
        "from google.colab import drive\n",
        "drive.mount('/content/drive')"
      ],
      "metadata": {
        "colab": {
          "base_uri": "https://localhost:8080/"
        },
        "id": "D6O8w0lBZoFV",
        "outputId": "e4ba0537-a7e2-4f6c-8c46-d083099d3b3e"
      },
      "id": "D6O8w0lBZoFV",
      "execution_count": 25,
      "outputs": [
        {
          "output_type": "stream",
          "name": "stdout",
          "text": [
            "Drive already mounted at /content/drive; to attempt to forcibly remount, call drive.mount(\"/content/drive\", force_remount=True).\n"
          ]
        }
      ]
    },
    {
      "cell_type": "code",
      "source": [
        "# replace this variable with your data location on your google drive\n",
        "drive_loc = \"/content/drive/MyDrive/CSE158/Assignment2/\""
      ],
      "metadata": {
        "id": "teckRSTDa51M"
      },
      "id": "teckRSTDa51M",
      "execution_count": 26,
      "outputs": []
    },
    {
      "cell_type": "code",
      "execution_count": 27,
      "id": "fc6d964b",
      "metadata": {
        "colab": {
          "base_uri": "https://localhost:8080/"
        },
        "id": "fc6d964b",
        "outputId": "7a71398f-b78d-4143-f04e-568c6141352c"
      },
      "outputs": [
        {
          "output_type": "stream",
          "name": "stderr",
          "text": [
            "[nltk_data] Downloading package stopwords to /root/nltk_data...\n",
            "[nltk_data]   Package stopwords is already up-to-date!\n"
          ]
        },
        {
          "output_type": "execute_result",
          "data": {
            "text/plain": [
              "True"
            ]
          },
          "metadata": {},
          "execution_count": 27
        }
      ],
      "source": [
        "nltk.download('stopwords')"
      ]
    },
    {
      "cell_type": "code",
      "source": [
        "import warnings\n",
        "warnings.filterwarnings(\"ignore\")"
      ],
      "metadata": {
        "id": "qN5rQWD2YvCl"
      },
      "id": "qN5rQWD2YvCl",
      "execution_count": 28,
      "outputs": []
    },
    {
      "cell_type": "code",
      "source": [
        "def readGz(path):\n",
        "    g = gzip.open(path, 'r')\n",
        "    for l in g:\n",
        "        l = str(json.loads(l))\n",
        "        yield eval(l)"
      ],
      "metadata": {
        "id": "Qg2OF2fSYy9j"
      },
      "id": "Qg2OF2fSYy9j",
      "execution_count": 29,
      "outputs": []
    },
    {
      "cell_type": "markdown",
      "source": [
        "# Import Dataset"
      ],
      "metadata": {
        "id": "YzlmBKa7eAjo"
      },
      "id": "YzlmBKa7eAjo"
    },
    {
      "cell_type": "code",
      "source": [
        "data_modcloth = []\n",
        "modcloth_path = drive_loc + \"modcloth_final_data.json.gz\"\n",
        "for l in readGz(modcloth_path):\n",
        "    data_modcloth.append(l)"
      ],
      "metadata": {
        "id": "WcNZQbtrY2UV"
      },
      "id": "WcNZQbtrY2UV",
      "execution_count": 30,
      "outputs": []
    },
    {
      "cell_type": "code",
      "source": [
        "len(data_modcloth)"
      ],
      "metadata": {
        "colab": {
          "base_uri": "https://localhost:8080/"
        },
        "id": "dCvh4leNbRdt",
        "outputId": "674d1d83-f82c-401a-8702-486405a59633"
      },
      "id": "dCvh4leNbRdt",
      "execution_count": 31,
      "outputs": [
        {
          "output_type": "execute_result",
          "data": {
            "text/plain": [
              "82790"
            ]
          },
          "metadata": {},
          "execution_count": 31
        }
      ]
    },
    {
      "cell_type": "code",
      "source": [
        "data_modcloth[0]"
      ],
      "metadata": {
        "colab": {
          "base_uri": "https://localhost:8080/"
        },
        "id": "AOS4iEEobWFi",
        "outputId": "b7cb7289-53cb-4a78-efa8-44d29569b2f0"
      },
      "id": "AOS4iEEobWFi",
      "execution_count": 32,
      "outputs": [
        {
          "output_type": "execute_result",
          "data": {
            "text/plain": [
              "{'item_id': '123373',\n",
              " 'waist': '29',\n",
              " 'size': 7,\n",
              " 'quality': 5,\n",
              " 'cup size': 'd',\n",
              " 'hips': '38',\n",
              " 'bra size': '34',\n",
              " 'category': 'new',\n",
              " 'bust': '36',\n",
              " 'height': '5ft 6in',\n",
              " 'user_name': 'Emily',\n",
              " 'length': 'just right',\n",
              " 'fit': 'small',\n",
              " 'user_id': '991571'}"
            ]
          },
          "metadata": {},
          "execution_count": 32
        }
      ]
    },
    {
      "cell_type": "code",
      "source": [
        "data_renttherunway = []\n",
        "renttherunway_path = drive_loc + \"renttherunway_final_data.json.gz\"\n",
        "for l in readGz(renttherunway_path):\n",
        "  data_renttherunway.append(l)"
      ],
      "metadata": {
        "id": "lVhjk547bYFY"
      },
      "id": "lVhjk547bYFY",
      "execution_count": 33,
      "outputs": []
    },
    {
      "cell_type": "code",
      "source": [
        "len(data_renttherunway)"
      ],
      "metadata": {
        "colab": {
          "base_uri": "https://localhost:8080/"
        },
        "id": "XFnpoaX9bxfS",
        "outputId": "f7313162-796a-43ef-cbe4-489be6194aca"
      },
      "id": "XFnpoaX9bxfS",
      "execution_count": 34,
      "outputs": [
        {
          "output_type": "execute_result",
          "data": {
            "text/plain": [
              "192544"
            ]
          },
          "metadata": {},
          "execution_count": 34
        }
      ]
    },
    {
      "cell_type": "code",
      "source": [
        "data_renttherunway[0]"
      ],
      "metadata": {
        "colab": {
          "base_uri": "https://localhost:8080/"
        },
        "id": "ND1I7e_EeNeK",
        "outputId": "7bdf311b-70da-47d7-942c-2b7dea4c9208"
      },
      "id": "ND1I7e_EeNeK",
      "execution_count": 35,
      "outputs": [
        {
          "output_type": "execute_result",
          "data": {
            "text/plain": [
              "{'fit': 'fit',\n",
              " 'user_id': '420272',\n",
              " 'bust size': '34d',\n",
              " 'item_id': '2260466',\n",
              " 'weight': '137lbs',\n",
              " 'rating': '10',\n",
              " 'rented for': 'vacation',\n",
              " 'review_text': \"An adorable romper! Belt and zipper were a little hard to navigate in a full day of wear/bathroom use, but that's to be expected. Wish it had pockets, but other than that-- absolutely perfect! I got a million compliments.\",\n",
              " 'body type': 'hourglass',\n",
              " 'review_summary': 'So many compliments!',\n",
              " 'category': 'romper',\n",
              " 'height': '5\\' 8\"',\n",
              " 'size': 14,\n",
              " 'age': '28',\n",
              " 'review_date': 'April 20, 2016'}"
            ]
          },
          "metadata": {},
          "execution_count": 35
        }
      ]
    },
    {
      "cell_type": "markdown",
      "source": [
        "# Process `review_text` in `data_renttherunway`"
      ],
      "metadata": {
        "id": "KjC1UIP4elC5"
      },
      "id": "KjC1UIP4elC5"
    },
    {
      "cell_type": "code",
      "source": [
        "from nltk.stem.snowball import stopwords\n",
        "stopwordsSet = set(stopwords.words(\"english\"))"
      ],
      "metadata": {
        "id": "BZYD_dTRej2Y"
      },
      "id": "BZYD_dTRej2Y",
      "execution_count": 36,
      "outputs": []
    },
    {
      "cell_type": "code",
      "source": [
        "len(stopwordsSet)"
      ],
      "metadata": {
        "colab": {
          "base_uri": "https://localhost:8080/"
        },
        "id": "AUNPjfQ5fjqF",
        "outputId": "dffdc30a-9208-43c5-fa75-0a84dd91447e"
      },
      "id": "AUNPjfQ5fjqF",
      "execution_count": 38,
      "outputs": [
        {
          "output_type": "execute_result",
          "data": {
            "text/plain": [
              "179"
            ]
          },
          "metadata": {},
          "execution_count": 38
        }
      ]
    },
    {
      "cell_type": "code",
      "source": [
        "punctuation = set(string.punctuation)"
      ],
      "metadata": {
        "id": "uygcwKxxfvxA"
      },
      "id": "uygcwKxxfvxA",
      "execution_count": 39,
      "outputs": []
    },
    {
      "cell_type": "code",
      "source": [
        "def clean_text(text):\n",
        "  text = ''.join([c for c in text.lower() if not c in punctuation])\n",
        "  text = ' '.join(w for w in text.split() if w not in stopwordsSet)\n",
        "  return text"
      ],
      "metadata": {
        "id": "8QNnCkk5fm5l"
      },
      "id": "8QNnCkk5fm5l",
      "execution_count": 40,
      "outputs": []
    },
    {
      "cell_type": "code",
      "source": [
        "# Process the review_text for each entry\n",
        "for d in data_renttherunway:\n",
        "  d['review_text'] = clean_text(d['review_text'])"
      ],
      "metadata": {
        "id": "iz2Ln-tofzJD"
      },
      "id": "iz2Ln-tofzJD",
      "execution_count": 41,
      "outputs": []
    },
    {
      "cell_type": "code",
      "source": [
        "data_renttherunway[0]"
      ],
      "metadata": {
        "colab": {
          "base_uri": "https://localhost:8080/"
        },
        "id": "MitMLWyOgKPf",
        "outputId": "9ff4ac37-d42e-4648-ab81-c287fe061342"
      },
      "id": "MitMLWyOgKPf",
      "execution_count": 42,
      "outputs": [
        {
          "output_type": "execute_result",
          "data": {
            "text/plain": [
              "{'fit': 'fit',\n",
              " 'user_id': '420272',\n",
              " 'bust size': '34d',\n",
              " 'item_id': '2260466',\n",
              " 'weight': '137lbs',\n",
              " 'rating': '10',\n",
              " 'rented for': 'vacation',\n",
              " 'review_text': 'adorable romper belt zipper little hard navigate full day wearbathroom use thats expected wish pockets absolutely perfect got million compliments',\n",
              " 'body type': 'hourglass',\n",
              " 'review_summary': 'So many compliments!',\n",
              " 'category': 'romper',\n",
              " 'height': '5\\' 8\"',\n",
              " 'size': 14,\n",
              " 'age': '28',\n",
              " 'review_date': 'April 20, 2016'}"
            ]
          },
          "metadata": {},
          "execution_count": 42
        }
      ]
    },
    {
      "cell_type": "markdown",
      "source": [
        "# Data Split"
      ],
      "metadata": {
        "id": "1S-hxVnGgbto"
      },
      "id": "1S-hxVnGgbto"
    },
    {
      "cell_type": "code",
      "source": [
        "data_renttherunway_train = data_renttherunway[:len(data_renttherunway)]"
      ],
      "metadata": {
        "id": "mqgYXf7-gP0C"
      },
      "id": "mqgYXf7-gP0C",
      "execution_count": 44,
      "outputs": []
    },
    {
      "cell_type": "code",
      "source": [
        "data_renttherunway_valid = data_renttherunway[len(data_renttherunway):]"
      ],
      "metadata": {
        "id": "pFFprj3fgs3C"
      },
      "id": "pFFprj3fgs3C",
      "execution_count": 45,
      "outputs": []
    }
  ],
  "metadata": {
    "kernelspec": {
      "display_name": "Python 3 (ipykernel)",
      "language": "python",
      "name": "python3"
    },
    "language_info": {
      "codemirror_mode": {
        "name": "ipython",
        "version": 3
      },
      "file_extension": ".py",
      "mimetype": "text/x-python",
      "name": "python",
      "nbconvert_exporter": "python",
      "pygments_lexer": "ipython3",
      "version": "3.10.8"
    },
    "colab": {
      "provenance": []
    }
  },
  "nbformat": 4,
  "nbformat_minor": 5
}